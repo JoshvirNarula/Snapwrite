{
 "cells": [
  {
   "cell_type": "code",
   "execution_count": 1,
   "id": "f6f3e29d-d04a-4c58-83e3-bdf0fbc85017",
   "metadata": {},
   "outputs": [],
   "source": [
    "import os\n",
    "import json\n",
    "from google.protobuf.json_format import MessageToJson"
   ]
  },
  {
   "cell_type": "code",
   "execution_count": 2,
   "id": "5afbb3d7-2e2f-4119-9981-93ad1a5ca18b",
   "metadata": {},
   "outputs": [],
   "source": [
    "def detect_document(path):\n",
    "    \"\"\"Detects document features in an image.\"\"\"\n",
    "    from google.cloud import vision\n",
    "    import io\n",
    "    client = vision.ImageAnnotatorClient()\n",
    "\n",
    "    with io.open(path, 'rb') as image_file:\n",
    "        content = image_file.read()\n",
    "\n",
    "    image = vision.Image(content=content)\n",
    "\n",
    "    response = client.document_text_detection(image=image)\n",
    "    return response"
   ]
  },
  {
   "cell_type": "code",
   "execution_count": 3,
   "id": "b1972696-80f0-4098-832a-86fe285125b4",
   "metadata": {},
   "outputs": [],
   "source": [
    "file_name = os.path.abspath('/Users/joshvirnarula/snapwrite/misc/prescription1.jpeg')\n",
    "response=detect_document(file_name)"
   ]
  },
  {
   "cell_type": "code",
   "execution_count": null,
   "id": "8fe32f25-db17-4a37-90e0-4c716e60e7a1",
   "metadata": {
    "collapsed": true,
    "jupyter": {
     "outputs_hidden": true
    },
    "tags": []
   },
   "outputs": [],
   "source": [
    "print(response.full_text_annotation.text)\n"
   ]
  },
  {
   "cell_type": "code",
   "execution_count": null,
   "id": "87aee75e",
   "metadata": {},
   "outputs": [],
   "source": [
    "for page in response.full_text_annotation.pages:\n",
    "    for block in page.blocks:\n",
    "        print('\\nBlock confidence: {}\\n'.format(block.confidence))\n",
    "\n",
    "        for paragraph in block.paragraphs:\n",
    "            print('Paragraph confidence: {}'.format(\n",
    "                paragraph.confidence))\n",
    "\n",
    "            for word in paragraph.words:\n",
    "                word_text = ''.join([\n",
    "                    symbol.text for symbol in word.symbols\n",
    "                ])\n",
    "                print('Word text: {} (confidence: {})'.format(\n",
    "                    word_text, word.confidence))\n",
    "\n",
    "                for symbol in word.symbols:\n",
    "                    print('\\tSymbol: {} (confidence: {})'.format(\n",
    "                        symbol.text, symbol.confidence))\n",
    "\n",
    "if response.error.message:\n",
    "    raise Exception(\n",
    "        '{}\\nFor more info on error messages, check: '\n",
    "        'https://cloud.google.com/apis/design/errors'.format(\n",
    "            response.error.message))"
   ]
  },
  {
   "cell_type": "code",
   "execution_count": 5,
   "id": "51b512bc-e7c2-4caf-9afd-5adb4324f1f5",
   "metadata": {},
   "outputs": [],
   "source": [
    "jsonObj = MessageToJson(response._pb)"
   ]
  },
  {
   "cell_type": "code",
   "execution_count": 6,
   "id": "1fe93820-c5f9-4167-94f8-1f1b0771a92c",
   "metadata": {},
   "outputs": [],
   "source": [
    "fname='/Users/joshvirnarula/snapwrite/misc/multi_sentence_testing_json/'+'multi_image1.json'\n",
    "with open(fname, \"w\") as outfile:\n",
    "    outfile.write(jsonObj)"
   ]
  },
  {
   "cell_type": "code",
   "execution_count": null,
   "id": "92b67207-f638-4ee8-842b-1b2e9b164fa6",
   "metadata": {},
   "outputs": [],
   "source": []
  }
 ],
 "metadata": {
  "kernelspec": {
   "display_name": "Python 3.10.7 64-bit",
   "language": "python",
   "name": "python3"
  },
  "language_info": {
   "codemirror_mode": {
    "name": "ipython",
    "version": 3
   },
   "file_extension": ".py",
   "mimetype": "text/x-python",
   "name": "python",
   "nbconvert_exporter": "python",
   "pygments_lexer": "ipython3",
   "version": "3.10.7"
  },
  "vscode": {
   "interpreter": {
    "hash": "aee8b7b246df8f9039afb4144a1f6fd8d2ca17a180786b69acc140d282b71a49"
   }
  }
 },
 "nbformat": 4,
 "nbformat_minor": 5
}

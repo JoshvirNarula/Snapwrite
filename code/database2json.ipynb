{
 "cells": [
  {
   "cell_type": "code",
   "execution_count": 3,
   "id": "f6f3e29d-d04a-4c58-83e3-bdf0fbc85017",
   "metadata": {},
   "outputs": [],
   "source": [
    "import os\n",
    "import json\n",
    "from google.protobuf.json_format import MessageToJson"
   ]
  },
  {
   "cell_type": "code",
   "execution_count": 4,
   "id": "5afbb3d7-2e2f-4119-9981-93ad1a5ca18b",
   "metadata": {},
   "outputs": [],
   "source": [
    "def detect_document(path):\n",
    "    \"\"\"Detects document features in an image.\"\"\"\n",
    "    from google.cloud import vision\n",
    "    import io\n",
    "    client = vision.ImageAnnotatorClient()\n",
    "\n",
    "    with io.open(path, 'rb') as image_file:\n",
    "        content = image_file.read()\n",
    "\n",
    "    image = vision.Image(content=content)\n",
    "\n",
    "    response = client.document_text_detection(image=image)\n",
    "    return response"
   ]
  },
  {
   "cell_type": "code",
   "execution_count": 5,
   "id": "b1972696-80f0-4098-832a-86fe285125b4",
   "metadata": {},
   "outputs": [
    {
     "name": "stdout",
     "output_type": "stream",
     "text": [
      "processed 1 images..\n",
      "processed 2 images..\n",
      "processed 3 images..\n",
      "processed 4 images..\n",
      "processed 5 images..\n",
      "processed 6 images..\n",
      "processed 7 images..\n",
      "processed 8 images..\n",
      "processed 9 images..\n",
      "processed 10 images..\n",
      "processed 11 images..\n",
      "processed 12 images..\n",
      "processed 13 images..\n",
      "processed 14 images..\n",
      "processed 15 images..\n",
      "processed 16 images..\n",
      "processed 17 images..\n",
      "processed 18 images..\n",
      "processed 19 images..\n",
      "processed 20 images..\n",
      "processed 21 images..\n",
      "processed 22 images..\n",
      "processed 23 images..\n",
      "processed 24 images..\n",
      "processed 25 images..\n",
      "processed 26 images..\n",
      "processed 27 images..\n",
      "processed 28 images..\n",
      "processed 29 images..\n",
      "processed 30 images..\n",
      "processed 31 images..\n",
      "processed 32 images..\n",
      "processed 33 images..\n",
      "processed 34 images..\n",
      "processed 35 images..\n",
      "processed 36 images..\n",
      "processed 37 images..\n",
      "processed 38 images..\n",
      "processed 39 images..\n",
      "processed 40 images..\n",
      "processed 41 images..\n",
      "processed 42 images..\n",
      "processed 43 images..\n",
      "processed 44 images..\n",
      "processed 45 images..\n",
      "processed 46 images..\n",
      "processed 47 images..\n",
      "processed 48 images..\n",
      "processed 49 images..\n",
      "processed 50 images..\n",
      "processed 51 images..\n",
      "processed 52 images..\n",
      "processed 53 images..\n",
      "processed 54 images..\n",
      "processed 55 images..\n",
      "processed 56 images..\n",
      "processed 57 images..\n"
     ]
    },
    {
     "ename": "IsADirectoryError",
     "evalue": "[Errno 21] Is a directory: '/Users/joshvirnarula/snapwrite/testing_dataset/snapwrite_testdataset/Sentence Testing/.ipynb_checkpoints'",
     "output_type": "error",
     "traceback": [
      "\u001b[0;31m---------------------------------------------------------------------------\u001b[0m",
      "\u001b[0;31mIsADirectoryError\u001b[0m                         Traceback (most recent call last)",
      "Cell \u001b[0;32mIn [5], line 6\u001b[0m\n\u001b[1;32m      4\u001b[0m \u001b[39mfor\u001b[39;00m file_count,file \u001b[39min\u001b[39;00m \u001b[39menumerate\u001b[39m(os\u001b[39m.\u001b[39mlistdir(directory),\u001b[39m1\u001b[39m):\n\u001b[1;32m      5\u001b[0m     file_name \u001b[39m=\u001b[39m os\u001b[39m.\u001b[39mpath\u001b[39m.\u001b[39mjoin(directory, file)\n\u001b[0;32m----> 6\u001b[0m     response\u001b[39m=\u001b[39mdetect_document(file_name)\n\u001b[1;32m      7\u001b[0m     \u001b[39mprint\u001b[39m(\u001b[39m\"\u001b[39m\u001b[39mprocessed\u001b[39m\u001b[39m\"\u001b[39m , file_count , \u001b[39m\"\u001b[39m\u001b[39mimages..\u001b[39m\u001b[39m\"\u001b[39m)\n\u001b[1;32m      8\u001b[0m     jsonObj \u001b[39m=\u001b[39m MessageToJson(response\u001b[39m.\u001b[39m_pb)\n",
      "Cell \u001b[0;32mIn [4], line 7\u001b[0m, in \u001b[0;36mdetect_document\u001b[0;34m(path)\u001b[0m\n\u001b[1;32m      4\u001b[0m \u001b[39mimport\u001b[39;00m \u001b[39mio\u001b[39;00m\n\u001b[1;32m      5\u001b[0m client \u001b[39m=\u001b[39m vision\u001b[39m.\u001b[39mImageAnnotatorClient()\n\u001b[0;32m----> 7\u001b[0m \u001b[39mwith\u001b[39;00m io\u001b[39m.\u001b[39;49mopen(path, \u001b[39m'\u001b[39;49m\u001b[39mrb\u001b[39;49m\u001b[39m'\u001b[39;49m) \u001b[39mas\u001b[39;00m image_file:\n\u001b[1;32m      8\u001b[0m     content \u001b[39m=\u001b[39m image_file\u001b[39m.\u001b[39mread()\n\u001b[1;32m     10\u001b[0m image \u001b[39m=\u001b[39m vision\u001b[39m.\u001b[39mImage(content\u001b[39m=\u001b[39mcontent)\n",
      "\u001b[0;31mIsADirectoryError\u001b[0m: [Errno 21] Is a directory: '/Users/joshvirnarula/snapwrite/testing_dataset/snapwrite_testdataset/Sentence Testing/.ipynb_checkpoints'"
     ]
    }
   ],
   "source": [
    "directory='/Users/joshvirnarula/snapwrite/testing_dataset/snapwrite_testdataset/Sentence Testing'\n",
    "\n",
    "\n",
    "for file_count,file in enumerate(os.listdir(directory),1):\n",
    "    if file.startswith(\".\")\n",
    "        file_count-=1\n",
    "    else:\n",
    "        file_name = os.path.join(directory, file)\n",
    "        response=detect_document(file_name)\n",
    "        print(\"processed\" , file_count , \"images..\")\n",
    "        jsonObj = MessageToJson(response._pb)\n",
    "        fname='/Users/joshvirnarula/snapwrite/misc/sentence_testing_json/'+'image_data'+str(file_count)\n",
    "        with open(fname, \"w\") as outfile:\n",
    "            outfile.write(jsonObj)"
   ]
  },
  {
   "cell_type": "code",
   "execution_count": null,
   "metadata": {},
   "outputs": [],
   "source": []
  }
 ],
 "metadata": {
  "kernelspec": {
   "display_name": "Python 3.10.7 64-bit",
   "language": "python",
   "name": "python3"
  },
  "language_info": {
   "codemirror_mode": {
    "name": "ipython",
    "version": 3
   },
   "file_extension": ".py",
   "mimetype": "text/x-python",
   "name": "python",
   "nbconvert_exporter": "python",
   "pygments_lexer": "ipython3",
   "version": "3.10.7"
  },
  "orig_nbformat": 4,
  "vscode": {
   "interpreter": {
    "hash": "aee8b7b246df8f9039afb4144a1f6fd8d2ca17a180786b69acc140d282b71a49"
   }
  }
 },
 "nbformat": 4,
 "nbformat_minor": 2
}

{
 "cells": [
  {
   "cell_type": "code",
   "execution_count": 1,
   "metadata": {},
   "outputs": [],
   "source": [
    "import json\n",
    "import os\n",
    "import mysql.connector"
   ]
  },
  {
   "cell_type": "code",
   "execution_count": 2,
   "metadata": {},
   "outputs": [
    {
     "name": "stdout",
     "output_type": "stream",
     "text": [
      "<mysql.connector.connection_cext.CMySQLConnection object at 0x10a3d2ef0>\n"
     ]
    }
   ],
   "source": [
    "mydb=mysql.connector.connect(\n",
    "    host=\"localhost\",\n",
    "    user=\"root\",\n",
    "    passwd=\"Mysql123\",\n",
    "    database=\"Testdb2\"\n",
    ")\n",
    "print(mydb)\n",
    "crs=mydb.cursor()"
   ]
  },
  {
   "cell_type": "code",
   "execution_count": 3,
   "metadata": {},
   "outputs": [],
   "source": [
    "def insertImage(name,id,text):\n",
    "    \n",
    "    insert_img='''\n",
    "    INSERT INTO Images(img_id,img_name,text) VALUES (%s, %s, %s)\n",
    "    '''\n",
    "    data=(id,name,text)\n",
    "    crs.execute(insert_img,data)"
   ]
  },
  {
   "cell_type": "code",
   "execution_count": 4,
   "metadata": {},
   "outputs": [],
   "source": [
    "def insertPage(page_id,confidence,languages,coor,image_id):\n",
    "    lang=languages.get('languageCode')\n",
    "    \n",
    "    coordinates=' '.join(str(coord) for coord in coor.values())\n",
    "\n",
    "    data=(page_id,confidence,lang,coordinates,image_id)\n",
    "    \n",
    "\n",
    "    insert_page='''\n",
    "    INSERT INTO Pages(page_id,page_confidence,page_languages,page_coor,img_id) VALUES (%s, %s, %s, %s, %s)\n",
    "    '''\n",
    "    crs.execute(insert_page,data)"
   ]
  },
  {
   "cell_type": "code",
   "execution_count": 5,
   "metadata": {},
   "outputs": [],
   "source": [
    "def insertBlock(block_id,confidence,coor,page_id):\n",
    "    coordinates=' '.join(str(coord) for coord in coor.values())\n",
    "\n",
    "    data=(block_id,confidence,coordinates,page_id)\n",
    "    \n",
    "    insert_block='''\n",
    "    INSERT INTO Blocks(block_id,block_confidence,block_coor,page_id) VALUES (%s, %s, %s, %s)\n",
    "    '''\n",
    "    crs.execute(insert_block,data)"
   ]
  },
  {
   "cell_type": "code",
   "execution_count": 6,
   "metadata": {},
   "outputs": [],
   "source": [
    "def insertPara(para_id,confidence,coor,block_id):\n",
    "    coordinates=' '.join(str(coord) for coord in coor.values())\n",
    "\n",
    "    data=(para_id,confidence,coordinates,block_id)\n",
    "    \n",
    "    insert_para='''\n",
    "    INSERT INTO Paragraphs(para_id,para_confidence,para_coor,block_id) VALUES (%s, %s, %s, %s)\n",
    "    '''\n",
    "    crs.execute(insert_para,data) "
   ]
  },
  {
   "cell_type": "code",
   "execution_count": 7,
   "metadata": {},
   "outputs": [],
   "source": [
    "def insertWord(word_id,word,confidence,languages,coor,para_id):\n",
    "    lang=languages.get('languageCode')\n",
    "    \n",
    "    coordinates=' '.join(str(coord) for coord in coor.values())\n",
    "\n",
    "    data=(word_id,word,confidence,lang,coordinates,para_id)\n",
    "    \n",
    "\n",
    "    insert_word='''\n",
    "    INSERT INTO Words(word_id,word_text,word_confidence,word_languages,word_coor,para_id) VALUES (%s, %s, %s, %s, %s, %s)\n",
    "    '''\n",
    "    crs.execute(insert_word,data) "
   ]
  },
  {
   "cell_type": "code",
   "execution_count": 8,
   "metadata": {},
   "outputs": [],
   "source": [
    "def insertSymbol(symbol_id,symbol,confidence,coor,word_id):\n",
    "    \n",
    "    coordinates=' '.join(str(coord) for coord in coor.values())\n",
    "\n",
    "    data=(symbol_id,symbol,confidence,coordinates,word_id)\n",
    "    \n",
    "\n",
    "    insert_symbol='''\n",
    "    INSERT INTO Symbols(symbol_id,symbol_text,symbol_confidence,symbol_coor,word_id) VALUES (%s, %s, %s, %s, %s)\n",
    "    '''\n",
    "    crs.execute(insert_symbol,data)"
   ]
  },
  {
   "cell_type": "code",
   "execution_count": 9,
   "metadata": {},
   "outputs": [],
   "source": [
    "def sqlInjection(data,name):\n",
    "    global img_id\n",
    "    global page_id\n",
    "    global block_id\n",
    "    global para_id\n",
    "    global word_id\n",
    "    global symbol_id\n",
    "    \n",
    "    text=data['fullTextAnnotation']['text']\n",
    "    insertImage(name,img_id,text)\n",
    "\n",
    "    for page in data['fullTextAnnotation']['pages']:\n",
    "        \n",
    "        page_id+=1\n",
    "        page_width=page.get('width')\n",
    "        page_height=page.get('height')\n",
    "\n",
    "        page_confidence=page['confidence']\n",
    "        page_coor={0:[0,0],1:[page_width,0],2:[page_width,page_height],3:[0,page_height]}\n",
    "        \n",
    "        page_languages={}\n",
    "\n",
    "        if(page.get('property')):\n",
    "            for detectedLanguage in page['property']['detectedLanguages']:\n",
    "                page_languages=detectedLanguage\n",
    "\n",
    "        insertPage(page_id,page_confidence,page_languages,page_coor,img_id)\n",
    "        \n",
    "        for block in page['blocks']:\n",
    "            block_id+=1\n",
    "            \n",
    "            block_confidence=block['confidence']\n",
    "\n",
    "            block_coor={}\n",
    "            for index,vertice in enumerate(block['boundingBox']['vertices']):\n",
    "                block_coor[index]=[vertice.get('x'),vertice.get('y')]\n",
    "\n",
    "            insertBlock(block_id,block_confidence,block_coor,page_id)\n",
    "\n",
    "            for paragraph in block['paragraphs']:\n",
    "                para_id+=1\n",
    "\n",
    "                para_confidence=paragraph['confidence']\n",
    "\n",
    "                para_coor={}\n",
    "                for index,vertice in enumerate(paragraph['boundingBox']['vertices']):\n",
    "                    para_coor[index]=[vertice.get('x'),vertice.get('y')]\n",
    "\n",
    "                insertPara(para_id,para_confidence,para_coor,block_id)\n",
    "                \n",
    "                for word in paragraph['words']:\n",
    "                    word_id+=1\n",
    "                    \n",
    "                    word_languages={}\n",
    "\n",
    "                    if(word.get('property')):\n",
    "                        for detectedLanguage in word['property']['detectedLanguages']:\n",
    "                            word_languages=detectedLanguage\n",
    "\n",
    "                    word_confidence=word['confidence']\n",
    "\n",
    "                    word_coor={}\n",
    "                    for index,vertice in enumerate(word['boundingBox']['vertices']):\n",
    "                        word_coor[index]=[vertice.get('x'),vertice.get('y')]\n",
    "                    \n",
    "                    word_text = ''.join([symbol['text'] for symbol in word['symbols']])\n",
    "                    \n",
    "                    insertWord(word_id,word_text,word_confidence,word_languages,word_coor,para_id)\n",
    "\n",
    "                    for symbol in word['symbols']:\n",
    "                        symbol_id+=1\n",
    "\n",
    "                        symbol_confidence=symbol['confidence']\n",
    "\n",
    "                        symbol_coor={}\n",
    "                        for index,vertice in enumerate(symbol['boundingBox']['vertices']):\n",
    "                            symbol_coor[index]=[vertice.get('x'),vertice.get('y')]\n",
    "                        \n",
    "                        symbol_text =symbol['text']\n",
    "\n",
    "                        insertSymbol(symbol_id,symbol_text,symbol_confidence,symbol_coor,word_id)"
   ]
  },
  {
   "cell_type": "code",
   "execution_count": 10,
   "metadata": {},
   "outputs": [
    {
     "name": "stdout",
     "output_type": "stream",
     "text": [
      "utf-8 could not correctly encode json file 11\n",
      "utf-8 could not correctly encode json file 65\n"
     ]
    }
   ],
   "source": [
    "directory='/Users/joshvirnarula/snapwrite/misc/sentence_testing_json/'\n",
    "\n",
    "img_id=0\n",
    "page_id=0\n",
    "block_id=0\n",
    "para_id=0\n",
    "word_id=0\n",
    "symbol_id=0\n",
    "for img_id,file in enumerate(os.listdir(directory),1):\n",
    "    file_name = os.path.join(directory, file)\n",
    "    with open(file_name,'r') as f:\n",
    "        try:\n",
    "            data=json.load(f)\n",
    "            img_name='Image'+str(img_id)\n",
    "            sqlInjection(data,img_name)\n",
    "            #print(\"processed\" , img_id , \"images..\")\n",
    "        except:\n",
    "            print(\"utf-8 could not correctly encode json file\",img_id)"
   ]
  },
  {
   "cell_type": "code",
   "execution_count": 11,
   "metadata": {},
   "outputs": [],
   "source": [
    "mydb.commit()"
   ]
  },
  {
   "cell_type": "code",
   "execution_count": null,
   "metadata": {},
   "outputs": [],
   "source": []
  }
 ],
 "metadata": {
  "kernelspec": {
   "display_name": "Python 3.10.7 64-bit",
   "language": "python",
   "name": "python3"
  },
  "language_info": {
   "codemirror_mode": {
    "name": "ipython",
    "version": 3
   },
   "file_extension": ".py",
   "mimetype": "text/x-python",
   "name": "python",
   "nbconvert_exporter": "python",
   "pygments_lexer": "ipython3",
   "version": "3.10.7"
  },
  "orig_nbformat": 4,
  "vscode": {
   "interpreter": {
    "hash": "aee8b7b246df8f9039afb4144a1f6fd8d2ca17a180786b69acc140d282b71a49"
   }
  }
 },
 "nbformat": 4,
 "nbformat_minor": 2
}
